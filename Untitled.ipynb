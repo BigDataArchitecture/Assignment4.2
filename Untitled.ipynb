{
 "cells": [
  {
   "cell_type": "code",
   "execution_count": 1,
   "id": "c5821196",
   "metadata": {},
   "outputs": [],
   "source": [
    "import pandas as pd"
   ]
  },
  {
   "cell_type": "code",
   "execution_count": 3,
   "id": "89ada9b4",
   "metadata": {},
   "outputs": [],
   "source": [
    "data = pd.read_csv('Cache_Events.csv')"
   ]
  },
  {
   "cell_type": "code",
   "execution_count": 7,
   "id": "41481086",
   "metadata": {},
   "outputs": [],
   "source": [
    "data = data[['BEGIN_YEARMONTH','BEGIN_DAY','BEGIN_TIME','BEGIN_HH','END_YEARMONTH','END_DAY',\n",
    " 'END_TIME','EPISODE_ID','EVENT_ID','STATE','STATE_FIPS','YEAR','MONTH_NAME','EVENT_TYPE','BEGIN_LAT','BEGIN_LON']]"
   ]
  },
  {
   "cell_type": "code",
   "execution_count": 12,
   "id": "e675ec66",
   "metadata": {
    "scrolled": true
   },
   "outputs": [
    {
     "data": {
      "text/plain": [
       "(49, 16)"
      ]
     },
     "execution_count": 12,
     "metadata": {},
     "output_type": "execute_result"
    }
   ],
   "source": [
    "data.shape"
   ]
  },
  {
   "cell_type": "code",
   "execution_count": 14,
   "id": "46a6baa9",
   "metadata": {},
   "outputs": [
    {
     "name": "stdout",
     "output_type": "stream",
     "text": [
      "30.1263 -83.551 848806\n",
      "31.7929 -103.0658 816570\n",
      "34.47 -85.79 839573\n",
      "36.67 -78.21 845380\n",
      "31.93 -89.91 841504\n",
      "38.26 -78.4 816753\n",
      "47.39 -99.94 842262\n",
      "28.98 -82.02 843272\n",
      "38.98 -77.3985 819037\n",
      "46.08 -68.1591 843719\n",
      "42.7854 -100.0355 813048\n",
      "37.79 -81.13 840243\n",
      "36.4891 -83.1691 810279\n",
      "30.21 -82.25 843281\n",
      "32.8699 -116.4149 819464\n",
      "38.7707 -101.6775 819307\n",
      "30.3327 -81.6525 843285\n",
      "39.53 -81.51 840229\n",
      "41.63 -99.37 813041\n",
      "45.5681 -112.017 852611\n",
      "32.4 -90.28 805105\n",
      "33.6606 -118.0087 805122\n",
      "29.64 -81.9 795292\n",
      "39.78 -101.19 848393\n",
      "40.3209 -100.2158 837822\n",
      "30.27 -99.33 834971\n",
      "44.34 -99.21 836773\n",
      "30.28 -81.81 826734\n",
      "38.85 -82.13 817963\n",
      "29.9986 -90.1957 809699\n",
      "29.54 -98.71 834957\n",
      "38.2233 -89.2132 843724\n",
      "30.29 -81.77 827031\n",
      "37.33 -95.52 845655\n",
      "29.45 -81.33 836827\n",
      "29.04 -82.4 836870\n",
      "30.25 -82.15 836875\n",
      "30.2291 -82.8257 836880\n",
      "45.82 -108.47 827413\n",
      "29.2724 -99.8303 835169\n",
      "37.2 -77.52 847667\n",
      "34.56 -86.7 806181\n",
      "36.4143 -79.9672 818563\n",
      "39.89 -75.03 807772\n",
      "40.3719 -77.6019 824382\n",
      "46.97 -110.07 818919\n",
      "41.51 -97.47 816622\n",
      "40.4143 -95.992 815202\n",
      "38.75 -84.15 811216\n"
     ]
    }
   ],
   "source": [
    "for i in range(49):\n",
    "    lat = data['BEGIN_LAT'].iloc[i]\n",
    "    lon = data['BEGIN_LON'].iloc[i]\n",
    "    event_id = data['EVENT_ID'].iloc[i]\n",
    "    print(lat,lon,event_id)"
   ]
  },
  {
   "cell_type": "code",
   "execution_count": null,
   "id": "7f27c9f2",
   "metadata": {},
   "outputs": [],
   "source": []
  }
 ],
 "metadata": {
  "kernelspec": {
   "display_name": "Python 3.8.0 ('.venv': venv)",
   "language": "python",
   "name": "python380jvsc74a57bd0b4268bdeb8b3cd6119633cfedec5f8ccd1d344ae93aca82ac0bac4da2ecd2271"
  },
  "language_info": {
   "codemirror_mode": {
    "name": "ipython",
    "version": 3
   },
   "file_extension": ".py",
   "mimetype": "text/x-python",
   "name": "python",
   "nbconvert_exporter": "python",
   "pygments_lexer": "ipython3",
   "version": "3.8.0"
  }
 },
 "nbformat": 4,
 "nbformat_minor": 5
}
